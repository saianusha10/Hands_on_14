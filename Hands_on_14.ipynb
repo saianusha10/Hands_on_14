{
  "nbformat": 4,
  "nbformat_minor": 0,
  "metadata": {
    "colab": {
      "provenance": [],
      "authorship_tag": "ABX9TyPu8aCRGW7lyhSSy0WHdw1t",
      "include_colab_link": true
    },
    "kernelspec": {
      "name": "python3",
      "display_name": "Python 3"
    },
    "language_info": {
      "name": "python"
    }
  },
  "cells": [
    {
      "cell_type": "markdown",
      "metadata": {
        "id": "view-in-github",
        "colab_type": "text"
      },
      "source": [
        "<a href=\"https://colab.research.google.com/github/saianusha10/Hands_on_14/blob/main/Hands_on_14.ipynb\" target=\"_parent\"><img src=\"https://colab.research.google.com/assets/colab-badge.svg\" alt=\"Open In Colab\"/></a>"
      ]
    },
    {
      "cell_type": "markdown",
      "source": [
        "Q1.  Dijkstra's algorithm"
      ],
      "metadata": {
        "id": "0mmUL_VLPW1h"
      }
    },
    {
      "cell_type": "code",
      "execution_count": 8,
      "metadata": {
        "colab": {
          "base_uri": "https://localhost:8080/"
        },
        "id": "odWwl2fpPRNg",
        "outputId": "b18b95d2-f458-4004-9a73-d93de9152383"
      },
      "outputs": [
        {
          "output_type": "stream",
          "name": "stdout",
          "text": [
            "Shortest distances from source 'S':\n",
            "S: 0\n",
            "T: 3\n",
            "Y: 5\n",
            "X: 9\n",
            "Z: 11\n",
            "\n",
            "Paths from source 'S':\n",
            "Path to S: S\n",
            "Path to T: S -> T\n",
            "Path to Y: S -> Y\n",
            "Path to X: S -> T -> X\n",
            "Path to Z: S -> Y -> Z\n"
          ]
        }
      ],
      "source": [
        "import heapq\n",
        "\n",
        "\n",
        "def dijkstra_algorithm(network, source):\n",
        "    # Priority queue to manage (cost, vertex)\n",
        "    priority_queue = []\n",
        "    heapq.heappush(priority_queue, (0, source))\n",
        "\n",
        "    # Dictionary to hold the shortest distance to each vertex\n",
        "    shortest_distances = {vertex: float('inf') for vertex in network}\n",
        "    shortest_distances[source] = 0\n",
        "\n",
        "    # Dictionary to keep track of the path taken\n",
        "    path_predecessors = {vertex: None for vertex in network}\n",
        "\n",
        "    while priority_queue:\n",
        "        current_cost, current_vertex = heapq.heappop(priority_queue)\n",
        "\n",
        "        # Skip processing if the current cost is greater than the recorded shortest distance\n",
        "        if current_cost > shortest_distances[current_vertex]:\n",
        "            continue\n",
        "\n",
        "        # Check each neighboring vertex\n",
        "        for neighbor, edge_cost in network[current_vertex]:\n",
        "            new_cost = current_cost + edge_cost\n",
        "\n",
        "            # Update if a shorter distance to the neighbor is found\n",
        "            if new_cost < shortest_distances[neighbor]:\n",
        "                shortest_distances[neighbor] = new_cost\n",
        "                path_predecessors[neighbor] = current_vertex\n",
        "                heapq.heappush(priority_queue, (new_cost, neighbor))\n",
        "\n",
        "    return shortest_distances, path_predecessors\n",
        "\n",
        "\n",
        "# Example network definition\n",
        "network = {\n",
        "    'S': [('T', 3), ('Y', 5)],\n",
        "    'T': [('Y', 2), ('X', 6)],\n",
        "    'Y': [('T', 1), ('X', 4), ('Z', 6)],\n",
        "    'X': [('Z', 2)],\n",
        "    'Z': [('S', 3), ('X', 7)]\n",
        "}\n",
        "\n",
        "# Run Dijkstra's algorithm starting from the source vertex 'A'\n",
        "shortest_distances, path_predecessors = dijkstra_algorithm(network, 'S')\n",
        "\n",
        "# Print the shortest distances\n",
        "print(\"Shortest distances from source 'S':\")\n",
        "for vertex, distance in shortest_distances.items():\n",
        "    print(f\"{vertex}: {distance}\")\n",
        "\n",
        "# Print the paths\n",
        "print(\"\\nPaths from source 'S':\")\n",
        "for vertex in path_predecessors:\n",
        "    path = []\n",
        "    current_vertex = vertex\n",
        "    while current_vertex is not None:\n",
        "        path.insert(0, current_vertex)\n",
        "        current_vertex = path_predecessors[current_vertex]\n",
        "    print(f\"Path to {vertex}: {' -> '.join(path)}\")"
      ]
    },
    {
      "cell_type": "markdown",
      "source": [
        "Q2. Bellman-Ford algorithm"
      ],
      "metadata": {
        "id": "9KLKCuvaQDoK"
      }
    },
    {
      "cell_type": "code",
      "source": [
        "def bellman_ford_algorithm(network, source):\n",
        "    # Initialize all nodes with infinite distances except the source, which is 0\n",
        "    min_distances = {vertex: float('inf') for vertex in network}\n",
        "    min_distances[source] = 0\n",
        "\n",
        "    # Dictionary to track the predecessor of each vertex in the shortest path\n",
        "    predecessors = {vertex: None for vertex in network}\n",
        "\n",
        "    # Extract all edges as a list of (start, end, weight)\n",
        "    edge_list = [(start, end, cost) for start in network for end, cost in network[start]]\n",
        "\n",
        "    # Perform |V| - 1 iterations to relax all edges\n",
        "    for _ in range(len(network) - 1):\n",
        "        for start, end, cost in edge_list:\n",
        "            if min_distances[start] + cost < min_distances[end]:\n",
        "                min_distances[end] = min_distances[start] + cost\n",
        "                predecessors[end] = start\n",
        "\n",
        "    # Check for negative weight cycles\n",
        "    for start, end, cost in edge_list:\n",
        "        if min_distances[start] + cost < min_distances[end]:\n",
        "            raise ValueError(\"The graph contains a negative weight cycle\")\n",
        "\n",
        "    return min_distances, predecessors\n",
        "\n",
        "# Example graph structure\n",
        "network = {\n",
        "    'S': [('T', 3), ('Y', 5)],\n",
        "    'T': [('Y', 2), ('X', 6)],\n",
        "    'Y': [('T', 1), ('X', 4), ('Z', 6)],\n",
        "    'X': [('Z', 2)],\n",
        "    'Z': [('S', 3), ('X', 7)]\n",
        "}\n",
        "\n",
        "# Run the Bellman-Ford algorithm from the source node 'A'\n",
        "try:\n",
        "    shortest_distances, path_predecessors = bellman_ford_algorithm(network, 'S')\n",
        "\n",
        "    # Print the results\n",
        "    print(\"Minimum distances from source 'S':\")\n",
        "    for vertex, distance in shortest_distances.items():\n",
        "        print(f\"{vertex}: {distance}\")\n",
        "\n",
        "    print(\"\\nShortest paths from source 'S':\")\n",
        "    for vertex in path_predecessors:\n",
        "        path = []\n",
        "        current_vertex = vertex\n",
        "        while current_vertex is not None:\n",
        "            path.insert(0, current_vertex)\n",
        "            current_vertex = path_predecessors[current_vertex]\n",
        "        print(f\"Path to {vertex}: {' -> '.join(path)}\")\n",
        "except ValueError as error:\n",
        "    print(error)"
      ],
      "metadata": {
        "colab": {
          "base_uri": "https://localhost:8080/"
        },
        "id": "XdEm0L6BQLPS",
        "outputId": "6c910ba3-919a-4c29-84b7-d6d5361fd8be"
      },
      "execution_count": 9,
      "outputs": [
        {
          "output_type": "stream",
          "name": "stdout",
          "text": [
            "Minimum distances from source 'S':\n",
            "S: 0\n",
            "T: 3\n",
            "Y: 5\n",
            "X: 9\n",
            "Z: 11\n",
            "\n",
            "Shortest paths from source 'S':\n",
            "Path to S: S\n",
            "Path to T: S -> T\n",
            "Path to Y: S -> Y\n",
            "Path to X: S -> T -> X\n",
            "Path to Z: S -> Y -> Z\n"
          ]
        }
      ]
    },
    {
      "cell_type": "markdown",
      "source": [
        "Q3. Floyd-Warshall algorithm"
      ],
      "metadata": {
        "id": "3CrcxuqNQYC8"
      }
    },
    {
      "cell_type": "code",
      "source": [
        "def floyd_warshall_algorithm(network):\n",
        "    # Extract all nodes from the graph\n",
        "    vertices = list(network.keys())\n",
        "    vertex_indices = {vertex: index for index, vertex in enumerate(vertices)}\n",
        "    num_vertices = len(vertices)\n",
        "\n",
        "    # Initialize matrices for shortest paths and next vertices\n",
        "    min_distances = [[float('inf')] * num_vertices for _ in range(num_vertices)]\n",
        "    next_vertex = [[None] * num_vertices for _ in range(num_vertices)]\n",
        "\n",
        "    # Set distance from each vertex to itself as zero\n",
        "    for idx in range(num_vertices):\n",
        "        min_distances[idx][idx] = 0\n",
        "\n",
        "    # Populate initial distances based on edges in the graph\n",
        "    for origin in network:\n",
        "        for destination, cost in network[origin]:\n",
        "            i, j = vertex_indices[origin], vertex_indices[destination]\n",
        "            min_distances[i][j] = cost\n",
        "            next_vertex[i][j] = destination\n",
        "\n",
        "    # Perform the Floyd-Warshall algorithm\n",
        "    for intermediary in range(num_vertices):\n",
        "        for source in range(num_vertices):\n",
        "            for target in range(num_vertices):\n",
        "                if min_distances[source][intermediary] + min_distances[intermediary][target] < min_distances[source][target]:\n",
        "                    min_distances[source][target] = min_distances[source][intermediary] + min_distances[intermediary][target]\n",
        "                    next_vertex[source][target] = next_vertex[source][intermediary]\n",
        "\n",
        "    return min_distances, next_vertex, vertices\n",
        "\n",
        "\n",
        "# Function to display the matrix in a readable format\n",
        "def display_matrix(matrix, vertices):\n",
        "    print(\"    \", \"     \".join(vertices))\n",
        "    for i, row in enumerate(matrix):\n",
        "        print(f\"{vertices[i]:<4}\", \"  \".join(f\"{val if val != float('inf') else '∞':<4}\" for val in row))\n",
        "\n",
        "\n",
        "# Graph representation as an adjacency list\n",
        "network = {\n",
        "    'S': [('T', 3), ('Y', 5)],\n",
        "    'T': [('Y', 2), ('X', 6)],\n",
        "    'Y': [('T', 1), ('X', 4), ('Z', 6)],\n",
        "    'X': [('Z', 2)],\n",
        "    'Z': [('S', 3), ('X', 7)]\n",
        "}\n",
        "\n",
        "# Execute the Floyd-Warshall algorithm\n",
        "min_distances, next_vertex, vertices = floyd_warshall_algorithm(network)\n",
        "\n",
        "# Print the shortest path distance matrix\n",
        "print(\"Shortest Path Distance Matrix:\")\n",
        "display_matrix(min_distances, vertices)"
      ],
      "metadata": {
        "colab": {
          "base_uri": "https://localhost:8080/"
        },
        "id": "TI0QmG7cQc7b",
        "outputId": "60626a20-54c5-4881-f4d8-538fb77ff6dd"
      },
      "execution_count": 10,
      "outputs": [
        {
          "output_type": "stream",
          "name": "stdout",
          "text": [
            "Shortest Path Distance Matrix:\n",
            "     S     T     Y     X     Z\n",
            "S    0     3     5     9     11  \n",
            "T    11    0     2     6     8   \n",
            "Y    9     1     0     4     6   \n",
            "X    5     8     10    0     2   \n",
            "Z    3     6     8     7     0   \n"
          ]
        }
      ]
    }
  ]
}